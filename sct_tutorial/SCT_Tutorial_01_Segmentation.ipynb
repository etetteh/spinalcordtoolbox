{
 "cells": [
  {
   "cell_type": "markdown",
   "id": "ac33cc75",
   "metadata": {},
   "source": [
    "# [Spinal Cord Toolbox (SCT)](https://spinalcordtoolbox.com/index.html)\n",
    "\n",
    "<img src=\"https://raw.githubusercontent.com/spinalcordtoolbox/doc-figures/master/overview.png\" align=\"center\" width=\"750px\">"
   ]
  },
  {
   "cell_type": "markdown",
   "id": "f72f60fa",
   "metadata": {},
   "source": [
    "## Installation Instructions\n",
    "The instructions below are for MacOS and Linux platforms. \\\n",
    "For more installation instructions, such as installing on Windows or Docker, check [here](https://spinalcordtoolbox.com/user_section/installation.html).\n",
    "\n",
    "### Run the following (starting with $) in your terminal\n",
    "Skip if you already have SCT and FSLeyes installed."
   ]
  },
  {
   "cell_type": "code",
   "execution_count": null,
   "id": "d2688852-4d7a-44ab-a205-5685f9aab3f4",
   "metadata": {},
   "outputs": [],
   "source": [
    "# First we'll clone the SCT repository from GitHub \n",
    "$git -C spinalcordtoolbox pull || git clone https://github.com/spinalcordtoolbox/spinalcordtoolbox.git spinalcordtoolbox\n",
    "\n",
    "# Change our directory to the newly created directory\n",
    "$cd spinalcordtoolbox\n",
    "\n",
    "#start installation\n",
    "$./install_sct -y"
   ]
  },
  {
   "cell_type": "code",
   "execution_count": null,
   "id": "af21fb47-3348-4571-a272-9494f159efb5",
   "metadata": {},
   "outputs": [],
   "source": [
    "# Install the following\n",
    "!${SCT_DIR}/python/envs/venv_sct/bin/pip install matplotlib-inline\n",
    "!${SCT_DIR}/python/envs/venv_sct/bin/pip install Ipython"
   ]
  },
  {
   "cell_type": "markdown",
   "id": "b6221859",
   "metadata": {
    "jp-MarkdownHeadingCollapsed": true,
    "tags": []
   },
   "source": [
    "Open a new terminal, and run the following to install FSLeyes.\\\n",
    "[FSLeyes](https://fsl.fmrib.ox.ac.uk/fsl/fslwiki/FSLeyes) is a GUI image viewer. We'll need this to view our input/output images, and perform labelling when necessary\n"
   ]
  },
  {
   "cell_type": "code",
   "execution_count": null,
   "id": "5cb333fb-3a7e-406d-9d90-55e5ccdf0ef3",
   "metadata": {},
   "outputs": [],
   "source": [
    "# Run the following to install fsleyes\n",
    "$source spinalcordtoolbox/python/etc/profile.d/conda.sh\n",
    "$conda create -c conda-forge -p ~/fsleyes_env fsleyes -y\n",
    "\n",
    "# Next let's make fsleyes available in the terminal without having to activate its environment\n",
    "$sudo ln -s ~/fsleyes_env/bin/fsleyes /usr/local/bin/fsleyes"
   ]
  },
  {
   "cell_type": "markdown",
   "id": "1ee33618",
   "metadata": {},
   "source": [
    "Test if SCT and FSLeyes are successfully installed, and working."
   ]
  },
  {
   "cell_type": "code",
   "execution_count": null,
   "id": "a86bc4ce-eef0-4f77-bd07-a3485d68b68c",
   "metadata": {
    "tags": []
   },
   "outputs": [],
   "source": [
    "# Run the following in the terminal\n",
    "$sct_testing\n",
    "\n",
    "# Run the following to check for fsleyes...\n",
    "$fsleyes"
   ]
  },
  {
   "cell_type": "code",
   "execution_count": null,
   "id": "8fe0a3de",
   "metadata": {
    "pycharm": {
     "is_executing": true
    }
   },
   "outputs": [],
   "source": [
    "# library to open our results .html instead of from the terminal\n",
    "import webbrowser"
   ]
  },
  {
   "cell_type": "markdown",
   "id": "2d6b8f5c-7552-4a51-b681-a373a2a63299",
   "metadata": {},
   "source": [
    "# [Spinal Cord Segmentation - Tutorial](https://spinalcordtoolbox.com/user_section/tutorials/segmentation.html)\n",
    "\n",
    "<img src=\"https://raw.githubusercontent.com/spinalcordtoolbox/doc-figures/master/spinalcord-segmentation/spinalcord-segmentation.png\" align=\"center\" width=\"400px\">"
   ]
  },
  {
   "cell_type": "markdown",
   "id": "a5886fb2",
   "metadata": {},
   "source": [
    "Without data there's no SCT, so let's download one for this tutorial by running the following."
   ]
  },
  {
   "cell_type": "code",
   "execution_count": null,
   "id": "6ee7b684",
   "metadata": {
    "pycharm": {
     "is_executing": true
    },
    "scrolled": true,
    "tags": []
   },
   "outputs": [],
   "source": [
    "# If you're on linux run\n",
    "!wget https://github.com/spinalcordtoolbox/sct_tutorial_data/releases/download/r20220125/data_spinalcord-segmentation.zip -O data_spinalcord-segmentation.zip -q\n",
    "\n",
    "# Otherwise, if you're on MacOS run\n",
    "# !curl -L https://github.com/spinalcordtoolbox/sct_tutorial_data/releases/download/r20220125/data_spinalcord-segmentation.zip -o data_spinalcord-segmentation.zip\n",
    "\n",
    "!unzip -o data_spinalcord-segmentation.zip -d spinalcord_seg && rm data_spinalcord-segmentation.zip"
   ]
  },
  {
   "cell_type": "code",
   "execution_count": null,
   "id": "7fc88075",
   "metadata": {
    "pycharm": {
     "is_executing": true
    }
   },
   "outputs": [],
   "source": [
    "%cd 'spinalcord_seg/single_subject/data'\n",
    "pwd = %pwd"
   ]
  },
  {
   "cell_type": "markdown",
   "id": "d171c790",
   "metadata": {},
   "source": [
    "## Algorithm #1: **sct_propseg**\n",
    "\n",
    "This is a machine learning based method that does the following:\n",
    "* Step 1️⃣: **Centerline detection** - the first step is detecting the centerline of the spinal (Click this [OptiC](https://archivesic.ccsd.cnrs.fr/PRIMES/hal-01713965v1)). This can also be achieve with **sct_get_centerline**\n",
    "* Step 2️⃣: **Mesh propagation** - here, the algorithm propagates along the spinal cord, and creates a 3D mesh\n",
    "* Step 3️⃣: **Surface refinement** - finally the algorithm refines the mesh created in step 2\n",
    "\n",
    "<img src=\"https://raw.githubusercontent.com/spinalcordtoolbox/doc-figures/master/spinalcord-segmentation/optic_steps.png\" align=\"center\" width=\"550px\" height=\"450px\"> <img src=\"https://raw.githubusercontent.com/spinalcordtoolbox/doc-figures/master/spinalcord-segmentation/mesh_propagation.png\" align=\"center\" width=\"550px\" height=\"450px\">\n",
    "\n",
    "Input arguments:\n",
    "* -i : Input image\n",
    "* -c : Contrast of the input image\n",
    "* -qc : Directory for Quality Control reporting. QC reports allow us to evaluate the segmentation slice-by-slice \\\n",
    "\n",
    "Output files/folders:\n",
    "* t2_seg.nii.gz : 3D binary mask of the segmented spinal cord"
   ]
  },
  {
   "cell_type": "markdown",
   "id": "d619f312",
   "metadata": {},
   "source": [
    "### Hands-on: Using sct_propseg on T2 data"
   ]
  },
  {
   "cell_type": "code",
   "execution_count": null,
   "id": "f1c8dae9",
   "metadata": {
    "pycharm": {
     "is_executing": true
    },
    "scrolled": true,
    "tags": []
   },
   "outputs": [],
   "source": [
    "!sct_propseg -i t2/t2.nii.gz -ofolder ./propseg -c t2 -qc ./propseg/qc_singleSub/t2"
   ]
  },
  {
   "cell_type": "code",
   "execution_count": null,
   "id": "1bae087f",
   "metadata": {
    "pycharm": {
     "is_executing": true
    },
    "scrolled": true,
    "tags": []
   },
   "outputs": [],
   "source": [
    "url = \"file://\" + pwd + \"/propseg/qc_singleSub/t2/index.html\"\n",
    "webbrowser.open(url)"
   ]
  },
  {
   "cell_type": "code",
   "execution_count": null,
   "id": "708c0517",
   "metadata": {
    "pycharm": {
     "is_executing": true
    },
    "scrolled": true,
    "tags": []
   },
   "outputs": [],
   "source": [
    "!fsleyes t2/t2.nii.gz -cm greyscale ./propseg/t2_seg.nii.gz -cm red -a 100.0"
   ]
  },
  {
   "cell_type": "markdown",
   "id": "3a0d4bbd",
   "metadata": {},
   "source": [
    "### Hands-on: Using sct_propseg on T1 data"
   ]
  },
  {
   "cell_type": "code",
   "execution_count": null,
   "id": "587a6066",
   "metadata": {
    "pycharm": {
     "is_executing": true
    },
    "scrolled": true,
    "tags": []
   },
   "outputs": [],
   "source": [
    "!sct_propseg -i t1/t1.nii.gz -ofolder ./propseg -c t1 -qc ./propseg/qc_singleSub/t1"
   ]
  },
  {
   "cell_type": "code",
   "execution_count": null,
   "id": "66d59616",
   "metadata": {
    "pycharm": {
     "is_executing": true
    },
    "scrolled": true,
    "tags": []
   },
   "outputs": [],
   "source": [
    "url = \"file://\" + pwd + \"/propseg/qc_singleSub/t1/index.html\"\n",
    "webbrowser.open(url)"
   ]
  },
  {
   "cell_type": "code",
   "execution_count": null,
   "id": "a7660527",
   "metadata": {
    "pycharm": {
     "is_executing": true
    },
    "scrolled": true,
    "tags": []
   },
   "outputs": [],
   "source": [
    "!fsleyes t1/t1.nii.gz -cm greyscale ./propseg/t1_seg.nii.gz -cm red -a 100.0"
   ]
  },
  {
   "cell_type": "markdown",
   "id": "bfb9153d",
   "metadata": {},
   "source": [
    "## Algorithm #2: **sct_deepseg_sc**\n",
    "\n",
    "Unlike **sct_propseg**, this algorithm is based on deep learning. **sct_deepseg_sc** does the following:\n",
    "* Step 1️⃣: **Spinal cord detection** - a convolutional neural network (CNN) is used to generate a probablistic heatmap of the location of the spinal cord\n",
    "* Step 2️⃣: **Centerline detection** - The heatmap is then fed into the OptiC algorithm (mentioned previoulsy) to detect the spinal cord centerline.\n",
    "* Step 3️⃣: **Patch extraction** - The spinal cord centerline is used to extract a patch (useful region) from the image.\n",
    "* Step 4️⃣: **Segmentation** - finally, a second CNN is applied to the extracted patch to segment the spinal cord.\n",
    "\n",
    "\n",
    "<img src=\"https://raw.githubusercontent.com/spinalcordtoolbox/doc-figures/master/spinalcord-segmentation/sct_deepseg_sc_steps.png\" align=\"center\" width=\"650px\" height=\"450px\">\n",
    "\n",
    "Input arguments:\n",
    "* -i : Input image\n",
    "* -c : Contrast of the input image\n",
    "* -ofolder : The folder to output files to. We specify this here so that we don’t overwrite the t2_seg.nii.gz file that was produced by sct_propseg.\n",
    "* -qc : Directory for Quality Control reporting. QC reports allow us to evaluate the segmentation slice-by-slice \\\n",
    "\n",
    "Output files/folders:\n",
    "* t2_seg.nii.gz : 3D binary mask of the segmented spinal cord"
   ]
  },
  {
   "cell_type": "markdown",
   "id": "11839d15",
   "metadata": {},
   "source": [
    "### Hands-on: Using sct_deepseg_sc on T1 data"
   ]
  },
  {
   "cell_type": "code",
   "execution_count": null,
   "id": "eb9dafe5",
   "metadata": {
    "pycharm": {
     "is_executing": true
    },
    "scrolled": true,
    "tags": []
   },
   "outputs": [],
   "source": [
    "!sct_deepseg_sc -i t1/t1.nii.gz -ofolder ./deepseg -c t1 -qc ./deepseg/qc_singleSub/t1"
   ]
  },
  {
   "cell_type": "code",
   "execution_count": null,
   "id": "76648762",
   "metadata": {
    "pycharm": {
     "is_executing": true
    },
    "scrolled": true,
    "tags": []
   },
   "outputs": [],
   "source": [
    "url = \"file://\" + pwd + \"/deepseg/qc_singleSub/t1/index.html\"\n",
    "webbrowser.open(url)"
   ]
  },
  {
   "cell_type": "code",
   "execution_count": null,
   "id": "bfb3d4cf",
   "metadata": {
    "pycharm": {
     "is_executing": true
    },
    "scrolled": true,
    "tags": []
   },
   "outputs": [],
   "source": [
    "!fsleyes t1/t1.nii.gz -cm greyscale ./deepseg/t1_seg.nii.gz -cm red -a 70.0"
   ]
  },
  {
   "cell_type": "markdown",
   "id": "b4784842-1bba-43a7-808b-7b7bf841d30e",
   "metadata": {
    "pycharm": {
     "is_executing": true
    }
   },
   "source": [
    "## Congratulations for completing this tutorial 🍾💐"
   ]
  },
  {
   "cell_type": "code",
   "execution_count": null,
   "id": "808d6e00-f76a-4bac-a33e-7c8744fba3e0",
   "metadata": {},
   "outputs": [],
   "source": []
  }
 ],
 "metadata": {
  "kernelspec": {
   "display_name": "Python 3 (ipykernel)",
   "language": "python",
   "name": "python3"
  },
  "language_info": {
   "codemirror_mode": {
    "name": "ipython",
    "version": 3
   },
   "file_extension": ".py",
   "mimetype": "text/x-python",
   "name": "python",
   "nbconvert_exporter": "python",
   "pygments_lexer": "ipython3",
   "version": "3.9.7"
  },
  "widgets": {
   "application/vnd.jupyter.widget-state+json": {
    "state": {},
    "version_major": 2,
    "version_minor": 0
   }
  }
 },
 "nbformat": 4,
 "nbformat_minor": 5
}
