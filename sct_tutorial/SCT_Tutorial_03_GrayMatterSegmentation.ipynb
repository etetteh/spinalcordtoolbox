{
 "cells": [
  {
   "cell_type": "markdown",
   "id": "ac33cc75",
   "metadata": {
    "tags": []
   },
   "source": [
    "# [Spinal Cord Toolbox (SCT)](https://spinalcordtoolbox.com/index.html)\n",
    "\n",
    "<img src=\"https://raw.githubusercontent.com/spinalcordtoolbox/doc-figures/master/overview.png\" align=\"center\" width=\"750px\">"
   ]
  },
  {
   "cell_type": "markdown",
   "id": "f72f60fa",
   "metadata": {
    "tags": []
   },
   "source": [
    "## Installation Instructions\n",
    "The instructions below are for MacOS and Linux platforms. \\\n",
    "For more installation instructions, such as installing on Windows or Docker, check [here](https://spinalcordtoolbox.com/user_section/installation.html).\n",
    "\n",
    "#### Run the following (starting with $) in your terminal\n",
    "Skip if you already have SCT and FSLeyes installed."
   ]
  },
  {
   "cell_type": "code",
   "execution_count": null,
   "id": "d2688852-4d7a-44ab-a205-5685f9aab3f4",
   "metadata": {},
   "outputs": [],
   "source": [
    "# First we'll clone the SCT repository from GitHub \n",
    "$git -C spinalcordtoolbox pull || git clone https://github.com/spinalcordtoolbox/spinalcordtoolbox.git spinalcordtoolbox\n",
    "\n",
    "# Change our directory to the newly created directory\n",
    "$cd spinalcordtoolbox\n",
    "\n",
    "#start installation\n",
    "$./install_sct -y"
   ]
  },
  {
   "cell_type": "code",
   "execution_count": null,
   "id": "8b8f78b2-ae74-4cb5-a875-3ba623d4f8b6",
   "metadata": {},
   "outputs": [],
   "source": [
    "# Install the following\n",
    "!${SCT_DIR}/python/envs/venv_sct/bin/pip install matplotlib-inline\n",
    "!${SCT_DIR}/python/envs/venv_sct/bin/pip install Ipython"
   ]
  },
  {
   "cell_type": "markdown",
   "id": "b6221859",
   "metadata": {
    "jp-MarkdownHeadingCollapsed": true,
    "tags": []
   },
   "source": [
    "Open a new terminal, and run the following to install FSLeyes.\\\n",
    "[FSLeyes](https://fsl.fmrib.ox.ac.uk/fsl/fslwiki/FSLeyes) is a GUI image viewer. We'll need this to view our input/output images, and perform labelling when necessary\n"
   ]
  },
  {
   "cell_type": "code",
   "execution_count": null,
   "id": "5cb333fb-3a7e-406d-9d90-55e5ccdf0ef3",
   "metadata": {},
   "outputs": [],
   "source": [
    "# Run the following to install fsleyes\n",
    "$source spinalcordtoolbox/python/etc/profile.d/conda.sh\n",
    "$conda create -c conda-forge -p ~/fsleyes_env fsleyes -y\n",
    "\n",
    "# Next let's make fsleyes available in the terminal without having to activate its environment\n",
    "$sudo ln -s ~/fsleyes_env/bin/fsleyes /usr/local/bin/fsleyes"
   ]
  },
  {
   "cell_type": "markdown",
   "id": "1ee33618",
   "metadata": {},
   "source": [
    "Test if SCT and FSLeyes are successfully installed, and working."
   ]
  },
  {
   "cell_type": "code",
   "execution_count": null,
   "id": "a86bc4ce-eef0-4f77-bd07-a3485d68b68c",
   "metadata": {
    "scrolled": true,
    "tags": []
   },
   "outputs": [],
   "source": [
    "# Run the following in the terminal\n",
    "$sct_testing\n",
    "\n",
    "# Run the following to check for fsleyes...\n",
    "$fsleyes"
   ]
  },
  {
   "cell_type": "code",
   "execution_count": null,
   "id": "8fe0a3de",
   "metadata": {
    "pycharm": {
     "is_executing": true
    }
   },
   "outputs": [],
   "source": [
    "# library to open our results .html instead of from the terminal\n",
    "import webbrowser"
   ]
  },
  {
   "cell_type": "markdown",
   "id": "2d6b8f5c-7552-4a51-b681-a373a2a63299",
   "metadata": {},
   "source": [
    "# [Gray matter segmentation - Tutorial](https://spinalcordtoolbox.com/user_section/tutorials/gray-matter-segmentation.html#gray-matter-segmentation)"
   ]
  },
  {
   "cell_type": "markdown",
   "id": "1b7905c6-925f-4c3b-b129-c925fad9d814",
   "metadata": {},
   "source": [
    "### Gray and white matter segmentation"
   ]
  },
  {
   "cell_type": "markdown",
   "id": "3795c89d-7032-4a44-a3f0-43f2015891bb",
   "metadata": {},
   "source": [
    "Without data there's no SCT, so let's download one for this tutorial by running the following."
   ]
  },
  {
   "cell_type": "code",
   "execution_count": null,
   "id": "1e6f34d4-5bbc-4fa7-937a-a2c302c65ab6",
   "metadata": {},
   "outputs": [],
   "source": [
    "# If you're on linux run\n",
    "!wget https://github.com/spinalcordtoolbox/sct_tutorial_data/releases/download/r20220125/data_gm-wm-segmentation.zip -O data_gm-wm-segmentation.zip -q\n",
    "\n",
    "# Otherwise, if you're on MacOS run\n",
    "# !curl -L https://github.com/spinalcordtoolbox/sct_tutorial_data/releases/download/r20220125/data_gm-wm-segmentation.zip -o data_gm-wm-segmentation.zip\n",
    "\n",
    "!unzip -o data_gm-wm-segmentation.zip -d gandwm_seg && rm data_gm-wm-segmentation.zip"
   ]
  },
  {
   "cell_type": "code",
   "execution_count": null,
   "id": "fc61a93a-205a-4abe-ab0d-f4865bb6e379",
   "metadata": {},
   "outputs": [],
   "source": [
    "%cd 'gandwm_seg/single_subject/data'\n",
    "pwd = %pwd"
   ]
  },
  {
   "cell_type": "markdown",
   "id": "07f32495-64b2-405a-b750-2b0e11de6d0b",
   "metadata": {
    "tags": []
   },
   "source": [
    "#### Gray matter segmentation algorithm: **sct_deepseg_gm**\n",
    "**sct_deepseg_gm** is restricted to T2*-like contrasts (GM bright, WM dark), but very effective and robust.\n",
    "\n",
    "<img src=\"https://raw.githubusercontent.com/spinalcordtoolbox/doc-figures/master/gm-wm-segmentation/io-sct_deepseg_gm.png\" align=\"center\" width=\"600px\">\n",
    "\n",
    "Input arguments:\n",
    "* -i : Destination image the template will be warped to.\n",
    "* -qc : Directory for Quality Control reporting.\n",
    "\n",
    "Output:\n",
    "* t2s_gmseg.nii.gz : The image file containing the gray matter segmentation.\n",
    "\n"
   ]
  },
  {
   "cell_type": "code",
   "execution_count": null,
   "id": "14962edf-8bfc-42e7-8e6d-df0a0f1cdbdb",
   "metadata": {
    "scrolled": true,
    "tags": []
   },
   "outputs": [],
   "source": [
    "# Compute gray mmatter\n",
    "!sct_deepseg_gm -i t2s/t2s.nii.gz -qc ./gm_seg/qc_singleSubj/t2s"
   ]
  },
  {
   "cell_type": "code",
   "execution_count": null,
   "id": "e98ab823-8831-4b1c-851d-9c5ffff88322",
   "metadata": {},
   "outputs": [],
   "source": [
    "url = \"file://\" + pwd + \"/gm_seg/qc_singleSubj/t2s/index.html\"\n",
    "webbrowser.open(url)"
   ]
  },
  {
   "cell_type": "code",
   "execution_count": null,
   "id": "5dccca7b-02b4-426e-af7d-f56e47bd2f60",
   "metadata": {
    "scrolled": true,
    "tags": []
   },
   "outputs": [],
   "source": [
    "!fsleyes t2s/t2s.nii.gz -cm greyscale -a 100.0 t2s/t2s_gmseg.nii.gz -cm red -a 70.0"
   ]
  },
  {
   "cell_type": "markdown",
   "id": "afef42c6-0e6b-4071-b8db-cd52ed62c5f8",
   "metadata": {},
   "source": [
    "#### White matter segmentation algorithm (inverse of gray matter):\n",
    "Step 1️⃣: Compute full spinal cord segmentation (using **sct_deepseg_sc**). You may refer to the Segmentation Tutorial \\\n",
    "Step 2️⃣: subtract the gray matter from the full segmentation (using **sct_maths**).\n",
    "\n",
    "<img src=\"https://raw.githubusercontent.com/spinalcordtoolbox/doc-figures/master/gm-wm-segmentation/io-sct_maths_gm_wm.png\" align=\"center\" width=\"750px\">"
   ]
  },
  {
   "cell_type": "code",
   "execution_count": null,
   "id": "4247595d-1347-46da-9fac-8ad3637cfa97",
   "metadata": {
    "scrolled": true,
    "tags": []
   },
   "outputs": [],
   "source": [
    "# Step 1: Compute full spinal cord segmentation\n",
    "!sct_deepseg_sc -i t2s/t2s.nii.gz -c t2s -ofolder ./wm_seg -qc ./wm_seg/qc_singleSubj/t2s"
   ]
  },
  {
   "cell_type": "code",
   "execution_count": null,
   "id": "216e09aa-6959-4d8f-a60f-27c2b5b7a6db",
   "metadata": {},
   "outputs": [],
   "source": [
    "url = \"file://\" + pwd + \"/wm_seg/qc_singleSubj/t2s/index.html\"\n",
    "webbrowser.open(url)"
   ]
  },
  {
   "cell_type": "code",
   "execution_count": null,
   "id": "c828527f-6a16-4cbc-ac64-898a3376618f",
   "metadata": {
    "scrolled": true,
    "tags": []
   },
   "outputs": [],
   "source": [
    "!fsleyes t2s/t2s.nii.gz -cm greyscale wm_seg/t2s_seg.nii.gz -cm red -a 70.0"
   ]
  },
  {
   "cell_type": "code",
   "execution_count": null,
   "id": "d7a12bea-8d2e-496a-9b02-8e96d186c399",
   "metadata": {},
   "outputs": [],
   "source": [
    "# Step 2: Subtract to obtain white matter\n",
    "!sct_maths -i wm_seg/t2s_seg.nii.gz -sub t2s/t2s_gmseg.nii.gz -o wm_seg/t2s_wmseg.nii.gz"
   ]
  },
  {
   "cell_type": "code",
   "execution_count": null,
   "id": "460afe9e-ff56-48b0-9b1a-3e3ad6ac221e",
   "metadata": {
    "scrolled": true,
    "tags": []
   },
   "outputs": [],
   "source": [
    "!fsleyes wm_seg/t2s_wmseg.nii.gz"
   ]
  },
  {
   "cell_type": "markdown",
   "id": "4bae6d27-f44d-4ce8-9b89-c714e354038a",
   "metadata": {},
   "source": [
    "### Computing metrics using GM and WM segmentations"
   ]
  },
  {
   "cell_type": "code",
   "execution_count": null,
   "id": "ef863a0b-7c82-4fec-93bf-246246576478",
   "metadata": {},
   "outputs": [],
   "source": [
    "%cd ../../../"
   ]
  },
  {
   "cell_type": "code",
   "execution_count": null,
   "id": "3d53e1aa-c664-4149-8765-422a1f7467a9",
   "metadata": {},
   "outputs": [],
   "source": [
    "# If you're on linux run\n",
    "!wget https://github.com/spinalcordtoolbox/sct_tutorial_data/releases/download/r20220125/data_gm-wm-metric-computation.zip -O data_gm-wm-metric-computation.zip -q\n",
    "\n",
    "# Otherwise, if you're on MacOS run\n",
    "# !curl -L https://github.com/spinalcordtoolbox/sct_tutorial_data/releases/download/r20220125/data_gm-wm-metric-computation.zip -o data_gm-wm-metric-computation.zip\n",
    "\n",
    "!unzip -o data_gm-wm-metric-computation.zip -d gandwm_metric && rm data_gm-wm-metric-computation.zip"
   ]
  },
  {
   "cell_type": "code",
   "execution_count": null,
   "id": "bd42bc59-99b5-4267-b975-a02497f3bfd6",
   "metadata": {},
   "outputs": [],
   "source": [
    "%cd 'gandwm_metric/single_subject/data'\n",
    "pwd = %pwd"
   ]
  },
  {
   "cell_type": "markdown",
   "id": "7273afae-262b-44a9-a690-fe1bed64ced2",
   "metadata": {},
   "source": [
    "#### Cross-Sectional Area (CSA) computation for gray and white matter: **sct_process_segmentation**\n",
    "\n",
    "<img src=\"https://raw.githubusercontent.com/spinalcordtoolbox/doc-figures/master/gm-wm-metric-computation/io-sct_process_segmentation.png\" align=\"center\" width=\"650px\">\n",
    "\n",
    "Input arguments:\n",
    "* -i : input image.\n",
    "* -o : output CSV file.\n",
    "* -perslice : Set this option to 1 to turn on per-slice computation.\n",
    "* -angle-corr: angle correction is applied to account for undesired orientation of the spinal cord. 0 means no correction, while 1 means apply angle correction. Check documention for details.\n",
    "\n",
    "Output files/folders:\n",
    "* csa_wm.csv and csa_gm.csv: Two CSV files containing shape metrics for both the white and gray matter segmentations."
   ]
  },
  {
   "cell_type": "code",
   "execution_count": null,
   "id": "4e4d0eaa-ee44-4275-a45e-12715f242b73",
   "metadata": {
    "scrolled": true,
    "tags": []
   },
   "outputs": [],
   "source": [
    "!sct_process_segmentation -i t2s/t2s_wmseg.nii.gz -o ./csa_wm.csv -perslice 1 -angle-corr 0"
   ]
  },
  {
   "cell_type": "code",
   "execution_count": null,
   "id": "e5cb75dd-89fe-4dd7-9a98-bbc7ac97dd73",
   "metadata": {},
   "outputs": [],
   "source": [
    "# Open results and analyse\n",
    "!open ./csa_wm.csv"
   ]
  },
  {
   "cell_type": "code",
   "execution_count": null,
   "id": "1a91fb99-488f-488c-9677-f40e4a9ad60c",
   "metadata": {
    "scrolled": true,
    "tags": []
   },
   "outputs": [],
   "source": [
    "!sct_process_segmentation -i t2s/t2s_gmseg.nii.gz -o ./csa_gm.csv -perslice 1 -angle-corr 0"
   ]
  },
  {
   "cell_type": "code",
   "execution_count": null,
   "id": "e4234724-7bb7-4889-91ff-e6b2d29ef78a",
   "metadata": {},
   "outputs": [],
   "source": [
    "# Open results and analyse\n",
    "!open ./csa_gm.csv"
   ]
  },
  {
   "cell_type": "markdown",
   "id": "1e03feee-4cc6-4ed4-9dea-a4dc01bd06cc",
   "metadata": {},
   "source": [
    "#### Extracting intensity values for gray and white matter: **sct_extract_metric**\n",
    "Input arguments:\n",
    "* -i : input image.\n",
    "* -f : File or folder used to pick out specific regions from the input image. \n",
    "* -method : We specify bin to binarize the mask, then use the binary mask to select the voxels for the metric extraction.\n",
    "* -z : axial slice region to extract metrics for.\n",
    "* -o : name of the output file.\n",
    "* -append : Whether or not to append the results to the end of an existing file, rather than overwriting it."
   ]
  },
  {
   "cell_type": "code",
   "execution_count": null,
   "id": "1999ff98-958b-48a7-83b4-1518178cd330",
   "metadata": {},
   "outputs": [],
   "source": [
    "!sct_extract_metric -i t2s/t2s.nii.gz -f t2s/t2s_wmseg.nii.gz -method bin -z 2:12 -o ./t2s_value.csv"
   ]
  },
  {
   "cell_type": "code",
   "execution_count": null,
   "id": "0e760ab1-4969-4cdc-8d6d-c7ae14c9e4c3",
   "metadata": {},
   "outputs": [],
   "source": [
    "!open ./t2s_value.csv"
   ]
  },
  {
   "cell_type": "code",
   "execution_count": null,
   "id": "a5efb926-5b68-4c30-b738-c734b1ae03dc",
   "metadata": {},
   "outputs": [],
   "source": [
    "!sct_extract_metric -i t2s/t2s.nii.gz -f t2s/t2s_gmseg.nii.gz -method bin -z 2:12 -o ./t2s_value.csv -append 1"
   ]
  },
  {
   "cell_type": "code",
   "execution_count": null,
   "id": "0f3b679c-88ee-4ebd-bbbb-247d932227b4",
   "metadata": {},
   "outputs": [],
   "source": [
    "!open ./t2s_value.csv"
   ]
  },
  {
   "cell_type": "markdown",
   "id": "05aa27cf-02e9-489d-9425-b31bcca04cc2",
   "metadata": {},
   "source": [
    "### Improving registration results using white and gray matter segmentations"
   ]
  },
  {
   "cell_type": "code",
   "execution_count": null,
   "id": "d155c4f4-11fa-4279-b10b-eb8f2963d7b5",
   "metadata": {},
   "outputs": [],
   "source": [
    "%cd ../../../"
   ]
  },
  {
   "cell_type": "code",
   "execution_count": null,
   "id": "1d41d608-f487-4e05-82cb-114b46b9e1f7",
   "metadata": {},
   "outputs": [],
   "source": [
    "# If you're on linux run\n",
    "!wget https://github.com/spinalcordtoolbox/sct_tutorial_data/releases/download/r20220125/data_improving-registration-with-gm-seg.zip -O data_improving-registration-with-gm-seg.zip -q\n",
    "\n",
    "# Otherwise, if you're on MacOS run\n",
    "# !curl -L https://github.com/spinalcordtoolbox/sct_tutorial_data/releases/download/r20220125/data_improving-registration-with-gm-seg.zip -o data_improving-registration-with-gm-seg.zip \n",
    "\n",
    "!unzip -o data_improving-registration-with-gm-seg.zip -d improve_regn && rm data_improving-registration-with-gm-seg.zip"
   ]
  },
  {
   "cell_type": "code",
   "execution_count": null,
   "id": "dedab95f-5eb9-433f-8815-b5be436c4fa7",
   "metadata": {},
   "outputs": [],
   "source": [
    "%cd \"improve_regn/single_subject/data\"\n",
    "pwd = %pwd"
   ]
  },
  {
   "cell_type": "markdown",
   "id": "b338e44e-c001-4d7a-a9f5-f5d2a9a894c7",
   "metadata": {},
   "source": [
    "### [GM-informed registration between the PAM50 template and T2* data](https://spinalcordtoolbox.com/user_section/tutorials/gray-matter-segmentation/improving-registration-with-gm-seg/gm-informed-t2s-template-registration.html#gm-informed-registration-between-the-pam50-template-and-t2-data)\n",
    "\n",
    "Due to the nature of the T2s data, we cannot use the typical **sct_register_to_template** function.\\\n",
    "A fix is to:\\\n",
    "1️⃣: Perform vertical labeling\\\n",
    "2️⃣: Perform template registration\\\n",
    "using a different contrast for the same subject like T2. The above steps will provide all the necessities to move forward with the T2s registration.\\\n",
    "Yow may revisit the segmentation and registration tutorials if need be.\n",
    "\n",
    "<img src=\"https://raw.githubusercontent.com/spinalcordtoolbox/doc-figures/master/improving-registration-with-gm-seg/io-sct_register_multimodal-t2s.png\" align=\"center\" width=\"700px\">"
   ]
  },
  {
   "cell_type": "code",
   "execution_count": null,
   "id": "52722847-505e-482a-9053-9bf54876fe31",
   "metadata": {
    "scrolled": true,
    "tags": []
   },
   "outputs": [],
   "source": [
    "!sct_register_multimodal -i \"${SCT_DIR}/data/PAM50/template/PAM50_t2s.nii.gz\" \\\n",
    "                        -iseg \"${SCT_DIR}/data/PAM50/template/PAM50_wm.nii.gz\" \\\n",
    "                        -d t2s/t2s.nii.gz \\\n",
    "                        -dseg t2s/t2s_wmseg.nii.gz \\\n",
    "                        -initwarp t2/warp_template2anat.nii.gz \\\n",
    "                        -initwarpinv t2/warp_anat2template.nii.gz \\\n",
    "                        -owarp warp_template2t2s.nii.gz \\\n",
    "                        -owarpinv warp_t2s2template.nii.gz \\\n",
    "                        -param step=1,type=seg,algo=rigid:step=2,type=seg,algo=bsplinesyn,slicewise=1,iter=3 \\\n",
    "                        -qc ./reg_t2s/qc_singleSubj"
   ]
  },
  {
   "cell_type": "code",
   "execution_count": null,
   "id": "40efc5b7-ac75-41c3-a5e9-9d57d8d9a495",
   "metadata": {},
   "outputs": [],
   "source": [
    "url = \"file://\" + pwd + \"/reg_t2s/qc_singleSubj/index.html\"\n",
    "webbrowser.open(url)"
   ]
  },
  {
   "cell_type": "code",
   "execution_count": null,
   "id": "18acd83e-f740-41e2-9c09-784c4075d5fd",
   "metadata": {
    "scrolled": true,
    "tags": []
   },
   "outputs": [],
   "source": [
    "!fsleyes ${SCT_DIR}/data/PAM50/template/PAM50_t2s.nii.gz t2s_reg.nii.gz"
   ]
  },
  {
   "cell_type": "code",
   "execution_count": null,
   "id": "ac5b7efc-9b45-4aef-b5d3-9193069d8121",
   "metadata": {
    "scrolled": true,
    "tags": []
   },
   "outputs": [],
   "source": [
    "!fsleyes ./t2s/t2s.nii.gz PAM50_t2s_reg.nii.gz"
   ]
  },
  {
   "cell_type": "markdown",
   "id": "fd6d6b53-02f0-4782-ae4d-8b92ca990b8a",
   "metadata": {},
   "source": [
    "#### Reusing the GM-informed warping field to improve MTI registration\n",
    "\n",
    "<img src=\"https://raw.githubusercontent.com/spinalcordtoolbox/doc-figures/master/improving-registration-with-gm-seg/io-sct_register_multimodal-mt.png\" align=\"center\" width=\"650px\">"
   ]
  },
  {
   "cell_type": "code",
   "execution_count": null,
   "id": "9146746c-83a2-4c3e-b3db-1611f92a0258",
   "metadata": {
    "scrolled": true,
    "tags": []
   },
   "outputs": [],
   "source": [
    "!sct_register_multimodal -i \"${SCT_DIR}/data/PAM50/template/PAM50_t2.nii.gz\" \\\n",
    "                        -iseg \"${SCT_DIR}/data/PAM50/template/PAM50_cord.nii.gz\" \\\n",
    "                        -d mt/mt1.nii.gz \\\n",
    "                        -dseg mt/mt1_seg.nii.gz \\\n",
    "                        -param step=1,type=seg,algo=centermass:step=2,type=seg,algo=bsplinesyn,slicewise=1,iter=3 \\\n",
    "                        -m mt/mask_mt1.nii.gz \\\n",
    "                        -initwarp ./warp_template2t2s.nii.gz \\\n",
    "                        -owarp ./warp_template2mt.nii.gz \\\n",
    "                        -qc ./improved_reg_t2s/qc_singleSubj"
   ]
  },
  {
   "cell_type": "code",
   "execution_count": null,
   "id": "426a43ef-44ce-4ed6-aead-432310cfa410",
   "metadata": {},
   "outputs": [],
   "source": [
    "url = \"file://\" + pwd + \"/improved_reg_t2s/qc_singleSubj/index.html\"\n",
    "webbrowser.open(url)"
   ]
  },
  {
   "cell_type": "code",
   "execution_count": null,
   "id": "df6231b8-285b-4b9e-82ae-b23351de14c8",
   "metadata": {
    "scrolled": true,
    "tags": []
   },
   "outputs": [],
   "source": [
    "!fsleyes mt/mt1.nii.gz PAM50_t2_reg.nii.gz"
   ]
  },
  {
   "cell_type": "code",
   "execution_count": null,
   "id": "9208be80-f1fa-47de-b137-1dc3d4b90d32",
   "metadata": {},
   "outputs": [],
   "source": []
  }
 ],
 "metadata": {
  "kernelspec": {
   "display_name": "Python 3.9.7 64-bit ('base': conda)",
   "language": "python",
   "name": "python397jvsc74a57bd0ba2fe2fb6f14793b40b5908c6860b8f79d7c3ac127e1ca483dad5b031f916b50"
  },
  "language_info": {
   "codemirror_mode": {
    "name": "ipython",
    "version": 3
   },
   "file_extension": ".py",
   "mimetype": "text/x-python",
   "name": "python",
   "nbconvert_exporter": "python",
   "pygments_lexer": "ipython3",
   "version": "3.9.7"
  },
  "widgets": {
   "application/vnd.jupyter.widget-state+json": {
    "state": {},
    "version_major": 2,
    "version_minor": 0
   }
  }
 },
 "nbformat": 4,
 "nbformat_minor": 5
}
