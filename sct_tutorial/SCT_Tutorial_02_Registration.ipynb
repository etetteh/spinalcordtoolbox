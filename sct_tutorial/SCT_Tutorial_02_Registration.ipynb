{
 "cells": [
  {
   "cell_type": "markdown",
   "id": "ac33cc75",
   "metadata": {
    "tags": []
   },
   "source": [
    "# [Spinal Cord Toolbox (SCT)](https://spinalcordtoolbox.com/index.html)\n",
    "\n",
    "<img src=\"https://raw.githubusercontent.com/spinalcordtoolbox/doc-figures/master/overview.png\" align=\"center\" width=\"750px\">"
   ]
  },
  {
   "cell_type": "markdown",
   "id": "f72f60fa",
   "metadata": {
    "tags": []
   },
   "source": [
    "## Installation Instructions\n",
    "The instructions below are for MacOS and Linux platforms. \\\n",
    "For more installation instructions, such as installing on Windows or Docker, check [here](https://spinalcordtoolbox.com/user_section/installation.html).\n",
    "\n",
    "#### Run the following (starting with $) in your terminal\n",
    "Skip if you already have SCT and FSLeyes installed."
   ]
  },
  {
   "cell_type": "code",
   "execution_count": null,
   "id": "d2688852-4d7a-44ab-a205-5685f9aab3f4",
   "metadata": {},
   "outputs": [],
   "source": [
    "# First we'll clone the SCT repository from GitHub \n",
    "$git -C spinalcordtoolbox pull || git clone https://github.com/spinalcordtoolbox/spinalcordtoolbox.git spinalcordtoolbox\n",
    "\n",
    "# Change our directory to the newly created directory\n",
    "$cd spinalcordtoolbox\n",
    "\n",
    "#start installation\n",
    "$./install_sct -y"
   ]
  },
  {
   "cell_type": "code",
   "execution_count": null,
   "id": "66bacefe-6664-4a1e-9cbc-028f64023b24",
   "metadata": {},
   "outputs": [],
   "source": [
    "# Install the following\n",
    "!${SCT_DIR}/python/envs/venv_sct/bin/pip install matplotlib-inline\n",
    "!${SCT_DIR}/python/envs/venv_sct/bin/pip install Ipython"
   ]
  },
  {
   "cell_type": "markdown",
   "id": "b6221859",
   "metadata": {
    "jp-MarkdownHeadingCollapsed": true,
    "tags": []
   },
   "source": [
    "Open a new terminal, and run the following to install FSLeyes.\\\n",
    "[FSLeyes](https://fsl.fmrib.ox.ac.uk/fsl/fslwiki/FSLeyes) is a GUI image viewer. We'll need this to view our input/output images, and perform labelling when necessary\n"
   ]
  },
  {
   "cell_type": "code",
   "execution_count": null,
   "id": "5cb333fb-3a7e-406d-9d90-55e5ccdf0ef3",
   "metadata": {},
   "outputs": [],
   "source": [
    "# Run the following to install fsleyes\n",
    "$source spinalcordtoolbox/python/etc/profile.d/conda.sh\n",
    "$conda create -c conda-forge -p ~/fsleyes_env fsleyes -y\n",
    "\n",
    "# Next let's make fsleyes available in the terminal without having to activate its environment\n",
    "$sudo ln -s ~/fsleyes_env/bin/fsleyes /usr/local/bin/fsleyes"
   ]
  },
  {
   "cell_type": "markdown",
   "id": "1ee33618",
   "metadata": {},
   "source": [
    "Test if SCT and FSLeyes are successfully installed, and working."
   ]
  },
  {
   "cell_type": "code",
   "execution_count": null,
   "id": "a86bc4ce-eef0-4f77-bd07-a3485d68b68c",
   "metadata": {
    "tags": []
   },
   "outputs": [],
   "source": [
    "# Run the following in the terminal\n",
    "$sct_testing\n",
    "\n",
    "# Run the following to check for fsleyes...\n",
    "$fsleyes"
   ]
  },
  {
   "cell_type": "code",
   "execution_count": null,
   "id": "8fe0a3de",
   "metadata": {
    "pycharm": {
     "is_executing": true
    }
   },
   "outputs": [],
   "source": [
    "# library to open our results .html instead of from the terminal\n",
    "import webbrowser"
   ]
  },
  {
   "cell_type": "markdown",
   "id": "2d6b8f5c-7552-4a51-b681-a373a2a63299",
   "metadata": {
    "tags": []
   },
   "source": [
    "# [Spinal Cord Registration to PAM50 template - Tutorial](https://spinalcordtoolbox.com/user_section/tutorials/registration-to-template.html)\n",
    "\n",
    "<img src=\"https://raw.githubusercontent.com/spinalcordtoolbox/doc-figures/master/template-registration/registration-pipeline.png\" align=\"center\" width=\"750px\">"
   ]
  },
  {
   "cell_type": "markdown",
   "id": "c00f579d-3525-46fd-980f-5f1ee49c9184",
   "metadata": {
    "pycharm": {
     "is_executing": true
    },
    "tags": []
   },
   "source": [
    "## Phase 1: [Vertebral Labeling](https://spinalcordtoolbox.com/user_section/tutorials/registration-to-template/vertebral-labeling.html#vertebral-labeling-for-anatomical-images)\n",
    "\n",
    "<img src=\"https://raw.githubusercontent.com/spinalcordtoolbox/doc-figures/master/vertebral-labeling/vertebral-labeling.png\" align=\"center\" width=\"350px\">        <img src=\"https://raw.githubusercontent.com/spinalcordtoolbox/doc-figures/master/vertebral-labeling/vertebral-labeling-conventions.png\" align=\"center\" width=\"300px\">\n",
    "\n",
    "\n",
    "### Labeling algorithm (Fully Automated): **sct_label_vertebrae**\n",
    "\n",
    "**sct_label_vertebrae** does the following:\n",
    "* Step 1️⃣: **Straightening** - this step involves straightening of the spinal cord to prepare it for the next steps.\n",
    "\n",
    "* Step 2️⃣: **C2-C3 disc detection** - C2-C3 disc detection is done early, becuase of its easy-to-detect nature.\n",
    "\n",
    "* Step 3️⃣: **Labeling of neighbouring discs** - this is done using a similarity measure with reference to the PAM50 template. \n",
    "\n",
    "* Step 4️⃣: **Un-straightening** - here, both the spinal cord and the labeled segmentation are un-straightened (back to their original state), and the labels are saved.\n",
    "\n",
    "And it is *Contrast-independent*, *Produces both label types*, and *Robust to missing discs*.\n",
    "\n",
    "\n",
    "Input arguments:\n",
    "* -i: Input image \n",
    "* -s: Segmented spinal cord corresponding to the input image\n",
    "* -c: Contrast of the input image\n",
    "* -qc: Directory for Quality Control reporting. QC reports allow us to evaluate the results slice-by-slice. \n",
    "\n",
    "Output files/folders:\n",
    "* straight_ref.nii.gz: the straightened input image.  \n",
    "* warp_curve2straight.nii.gz: 4D warping field of the transformation from the original image to the straightened image.\n",
    "* warp_straight2curve.nii.gz: 4D warping field of the inverse transformation from the straightened image to original image.\n",
    "* straightening.cache: cache of the strainghtening process\n",
    "* t2_seg_labeled.nii.gz: the labeled spinal cord\n",
    "* t2_seg_labeled_discs.nii.gz: single-voxel intervertebral disc labels (without the segmented spinal cord). "
   ]
  },
  {
   "cell_type": "markdown",
   "id": "a5886fb2",
   "metadata": {
    "tags": []
   },
   "source": [
    "Without data there's no SCT, so let's download one for this tutorial by running the following."
   ]
  },
  {
   "cell_type": "code",
   "execution_count": null,
   "id": "6ee7b684",
   "metadata": {
    "pycharm": {
     "is_executing": true
    }
   },
   "outputs": [],
   "source": [
    "# If you're on linux run\n",
    "!wget https://github.com/spinalcordtoolbox/sct_tutorial_data/releases/download/r20220125/data_vertebral-labeling.zip -O data_vertebral-labeling.zip -q\n",
    "\n",
    "# Otherwise, if you're on MacOS run\n",
    "# !curl -L https://github.com/spinalcordtoolbox/sct_tutorial_data/releases/download/r20220125/data_vertebral-labeling.zip -o data_vertebral-labeling.zip\n",
    "\n",
    "!unzip -o data_vertebral-labeling.zip -d vert_labeling && rm data_vertebral-labeling.zip"
   ]
  },
  {
   "cell_type": "code",
   "execution_count": null,
   "id": "7fc88075",
   "metadata": {
    "pycharm": {
     "is_executing": true
    }
   },
   "outputs": [],
   "source": [
    "%cd 'vert_labeling/single_subject/data'\n",
    "pwd = %pwd"
   ]
  },
  {
   "cell_type": "code",
   "execution_count": null,
   "id": "f1c8dae9",
   "metadata": {
    "pycharm": {
     "is_executing": true
    },
    "scrolled": true,
    "tags": []
   },
   "outputs": [],
   "source": [
    "!sct_label_vertebrae -i t2/t2.nii.gz -s t2/t2_seg.nii.gz -c t2 -ofolder vlabeling/full -qc ./vlabeling/qc_singleSubj/t2/full "
   ]
  },
  {
   "cell_type": "code",
   "execution_count": null,
   "id": "1bae087f",
   "metadata": {
    "pycharm": {
     "is_executing": true
    }
   },
   "outputs": [],
   "source": [
    "url = \"file://\" + pwd + \"/vlabeling/qc_singleSubj/t2/full/index.html\"\n",
    "webbrowser.open(url)"
   ]
  },
  {
   "cell_type": "code",
   "execution_count": null,
   "id": "708c0517",
   "metadata": {
    "pycharm": {
     "is_executing": true
    },
    "scrolled": true,
    "tags": []
   },
   "outputs": [],
   "source": [
    "!fsleyes t2/t2.nii.gz -a 100.0 ./vlabeling/full/t2_seg_labeled.nii.gz -cm subcortical -a 50.0"
   ]
  },
  {
   "cell_type": "markdown",
   "id": "3a0d4bbd",
   "metadata": {},
   "source": [
    "### Alternative #1 (Semi-automated): Manually labeling the C2-C3 disc (**sct_label_utils**)\n",
    "\n",
    "Input arguments:\n",
    "* -i: the input image\n",
    "* -create-viewer: opens a GUI where you do the labeling\n",
    "* -msg: GUI window title\n",
    "* -o: output file name\n",
    "\n",
    "Output files/folders:\n",
    "* label_c2c3.nii.gz: image containing the single-voxel label\n",
    "\n",
    "The output image can be passed via **initlabel** to the fully automated labeling function **sct_label_vertebrae**. Note: all labels in the algorithm are preserved, except the manually labeled one. label_c2c3.nii.gzlabel_c2c3.nii.gz"
   ]
  },
  {
   "cell_type": "code",
   "execution_count": null,
   "id": "587a6066",
   "metadata": {
    "pycharm": {
     "is_executing": true
    },
    "scrolled": true,
    "tags": []
   },
   "outputs": [],
   "source": [
    "!sct_label_utils -i t2/t2.nii.gz -create-viewer 3 -o ./vlabeling/label_c2c3.nii.gz \\\n",
    "                -msg \"Click at the posterior tip of C2/C3 inter-vertebral disc\""
   ]
  },
  {
   "cell_type": "code",
   "execution_count": null,
   "id": "d86bd781-bb6e-4d04-a407-188cb255f5b6",
   "metadata": {
    "scrolled": true,
    "tags": []
   },
   "outputs": [],
   "source": [
    "!fsleyes t2/t2.nii.gz ./vlabeling/label_c2c3.nii.gz"
   ]
  },
  {
   "cell_type": "code",
   "execution_count": null,
   "id": "fd3ea0cf-731a-458f-91b6-4309f7b19a0c",
   "metadata": {
    "scrolled": true,
    "tags": []
   },
   "outputs": [],
   "source": [
    "!sct_label_vertebrae -i t2/t2.nii.gz -s t2/t2_seg.nii.gz -c t2 -initlabel ./vlabeling/label_c2c3.nii.gz -qc ./vlabeling/qc_singleSubj/t2/c2c3"
   ]
  },
  {
   "cell_type": "code",
   "execution_count": null,
   "id": "0345f66b-b220-4271-95f8-7926b87027aa",
   "metadata": {},
   "outputs": [],
   "source": [
    "url = \"file://\" + pwd + \"/vlabeling/qc_singleSubj/t2/c2c3/index.html\"\n",
    "webbrowser.open(url)"
   ]
  },
  {
   "cell_type": "code",
   "execution_count": null,
   "id": "e648b558-6eaa-4874-a976-91bc5d20c353",
   "metadata": {},
   "outputs": [],
   "source": [
    "!fsleyes t2/t2.nii.gz -a 100.0 t2_seg_labeled.nii.gz -cm subcortical -a 50.0"
   ]
  },
  {
   "cell_type": "markdown",
   "id": "e4b8ceae-e3ec-4093-a5fb-366a89cfc574",
   "metadata": {
    "tags": []
   },
   "source": [
    "### Alternative #2 (Fully Manual): Manually labeling all labels\n",
    "\n",
    "This approach is taken, when automatic labeling can't be applied due to absence of discs or having a heavily artifacted data.\n",
    "\n",
    "You will pass the various discs to label to the **-create-viewer** argument"
   ]
  },
  {
   "cell_type": "code",
   "execution_count": null,
   "id": "55879a45-436b-4c6a-a029-0cdd1c1b3fb6",
   "metadata": {
    "scrolled": true,
    "tags": []
   },
   "outputs": [],
   "source": [
    "# Example: Label C2-C3, C3-C4, and C4-C5 discs\n",
    "\n",
    "!sct_label_utils -i t2/t2.nii.gz -create-viewer 3,4,5 -o ./vlabeling/labels_disc.nii.gz \\\n",
    "                -msg \"Place labels at the posterior tip of each inter-vertebral disc. E.g. Label 3: C2/C3, Label 4: C3/C4, etc.\""
   ]
  },
  {
   "cell_type": "code",
   "execution_count": null,
   "id": "435ab360-0dd1-4a4f-85ca-e1d823d80ccf",
   "metadata": {
    "scrolled": true,
    "tags": []
   },
   "outputs": [],
   "source": [
    "!fsleyes t2/t2.nii.gz ./vlabeling/labels_disc.nii.gz "
   ]
  },
  {
   "cell_type": "markdown",
   "id": "b58df59b-4885-4e64-b935-8b2f7bdc5791",
   "metadata": {
    "tags": []
   },
   "source": [
    "### Extracting specific labels for registration (**sct_label_utils**)\n",
    "\n",
    "Input arguments:\n",
    "* -i: input image containing a spinal cord labeled with vertebral levels\n",
    "* -vert-body: the top and bottom vertebral levels to create new single-voxel labels for. Choose labels based on your region of interest.\n",
    "* -o: Output filename\n",
    "\n",
    "Output files/folders:\n",
    "* t2_labels_vert.nii.gz: Image containing 2 single-voxel vertebral labels, centered within the chosen region vertebral bodies."
   ]
  },
  {
   "cell_type": "code",
   "execution_count": null,
   "id": "38a6ca39-a1f8-41d8-9ff0-cf08030dfae6",
   "metadata": {
    "scrolled": true,
    "tags": []
   },
   "outputs": [],
   "source": [
    "# Example: Extract C3 to T9 region\n",
    "!sct_label_utils -i t2_seg_labeled.nii.gz -vert-body 3,9 -o ./vlabeling/t2_labels_vert.nii.gz"
   ]
  },
  {
   "cell_type": "code",
   "execution_count": null,
   "id": "8160ad16-232b-4c70-bee9-c678df435839",
   "metadata": {
    "scrolled": true,
    "tags": []
   },
   "outputs": [],
   "source": [
    "!fsleyes t2_seg_labeled.nii.gz ./vlabeling/t2_labels_vert.nii.gz "
   ]
  },
  {
   "cell_type": "markdown",
   "id": "8a229a35-4f6b-4b41-a377-8d6638451a68",
   "metadata": {
    "tags": []
   },
   "source": [
    "## Phase 2: [Registering to the PAM50 template](https://spinalcordtoolbox.com/user_section/tutorials/registration-to-template/template-registration.html#registering-labeled-anatomical-images-to-the-pam50-template)\n",
    "\n",
    "Useful links:\n",
    "* [PAM50 Template](https://spinalcordtoolbox.com/overview/concepts/pam50.html#pam50)     \n",
    "* [Warping fields](https://spinalcordtoolbox.com/overview/concepts/warping-fields.html#warping-fields)"
   ]
  },
  {
   "cell_type": "markdown",
   "id": "a5fa6c1c-fc94-4ae7-aca7-4c43ac97b036",
   "metadata": {
    "tags": []
   },
   "source": [
    "### Registration algorithm: **sct_register_to_template**\n",
    "**sct_register_to_template** does the following:\n",
    "1️⃣ Straightening\n",
    "2️⃣ Vertebrae-matching transformation\n",
    "3️⃣ Shape-matching transformation\n",
    "\n",
    "Input arguments:\n",
    "* -i: input image\n",
    "* -s: segmented spinal cord of input image\n",
    "* -l: One or two labels located at the center of the spinal cord, on the mid-vertebral slice\n",
    "* -c: input image contrast. This determines which template to use\n",
    "+ -qc: quality control directory name\n",
    "\n",
    "Output files/folders:\n",
    "* anat2template.nii.gz: subject image warped to the template space.\n",
    "* template2anat.nii.gz : template image warped to the subject space.\n",
    "* warp_anat2template.nii.gz : 4D warping field that defines the transform from the subject image to the template image.\n",
    "* warp_template2anat.nii.gz : 4D warping field that defines the inverse transform from the template image to the subject image.\n",
    "\n",
    "\n",
    "<img src=\"https://raw.githubusercontent.com/spinalcordtoolbox/doc-figures/master/template-registration/io-sct_register_to_template.png\" align=\"center\" width=\"550px\"> "
   ]
  },
  {
   "cell_type": "code",
   "execution_count": null,
   "id": "4b0e4c95-59b8-49c8-b9fd-f65f0c9ba064",
   "metadata": {},
   "outputs": [],
   "source": [
    "%cd ../../../"
   ]
  },
  {
   "cell_type": "code",
   "execution_count": null,
   "id": "16bc6622-c363-4922-8a8b-7efa52d4065a",
   "metadata": {},
   "outputs": [],
   "source": [
    "# If you're on linux run\n",
    "!wget https://github.com/spinalcordtoolbox/sct_tutorial_data/releases/download/r20220125/data_template-registration.zip -q\n",
    "\n",
    "# Otherwise, if you're on MacOS run\n",
    "# !curl -L https://github.com/spinalcordtoolbox/sct_tutorial_data/releases/download/r20220125/data_template-registration.zip -o data_template-registration.zip\n",
    "\n",
    "!unzip -o data_template-registration.zip -d PAM5O_regn && rm data_template-registration.zip"
   ]
  },
  {
   "cell_type": "code",
   "execution_count": null,
   "id": "6194553a-5014-4808-9027-c3c100b6b93f",
   "metadata": {},
   "outputs": [],
   "source": [
    "%cd 'PAM5O_regn/single_subject/data'\n",
    "pwd = %pwd"
   ]
  },
  {
   "cell_type": "code",
   "execution_count": null,
   "id": "11ac5d59-1f68-4793-9710-278a830b1bac",
   "metadata": {
    "scrolled": true,
    "tags": []
   },
   "outputs": [],
   "source": [
    "!sct_register_to_template -i t2/t2.nii.gz -s t2/t2_seg.nii.gz -l t2/t2_labels_vert.nii.gz -c t2 -qc ./registration/qc_singleSubj/t2"
   ]
  },
  {
   "cell_type": "code",
   "execution_count": null,
   "id": "87271cf1-bf4a-4b5b-914c-8d0b88ec00b9",
   "metadata": {},
   "outputs": [],
   "source": [
    "url = \"file://\" + pwd + \"/registration/qc_singleSubj/t2/index.html\"\n",
    "webbrowser.open(url)"
   ]
  },
  {
   "cell_type": "code",
   "execution_count": null,
   "id": "458a585f-c47e-4993-a5b4-17615e6e2b7e",
   "metadata": {
    "scrolled": true,
    "tags": []
   },
   "outputs": [],
   "source": [
    "!fsleyes t2/t2.nii.gz template2anat.nii.gz"
   ]
  },
  {
   "cell_type": "code",
   "execution_count": null,
   "id": "dfa24ad2-c67c-4ce1-a167-040797f7aabb",
   "metadata": {
    "scrolled": true,
    "tags": []
   },
   "outputs": [],
   "source": [
    "!fsleyes ${SCT_DIR}/data/PAM50/template/PAM50_t2.nii.gz anat2template.nii.gz"
   ]
  },
  {
   "cell_type": "markdown",
   "id": "5c50e127-408f-4ca7-98e1-ba7b13a95ee5",
   "metadata": {},
   "source": [
    "### [Transforming the template using warping fields](https://spinalcordtoolbox.com/user_section/tutorials/registration-to-template/template-registration/applying-the-warping-fields.html#transforming-the-template-using-warping-fields): **sct_warp_template**\n",
    "\n",
    "Input arguments\n",
    "* -d : Destination image the template will be warped to.\n",
    "* -w : Warping field (template space to anatomical space).\n",
    "* -a : Whether or not to also warp the white matter atlas. (If -a 1 is specified, label/atlas/ will also be warped.)\n",
    "* -qc : Directory for Quality Control reporting. QC reports allow us to evaluate the results slice-by-slice.\n",
    "\n",
    "Output files/folders\n",
    "* label/template/ : This directory contains the 15 PAM50 template objects that have been transformed into the subject space "
   ]
  },
  {
   "cell_type": "code",
   "execution_count": null,
   "id": "94dabcbf-7087-4cc1-9678-f331649ff973",
   "metadata": {
    "scrolled": true,
    "tags": []
   },
   "outputs": [],
   "source": [
    "!sct_warp_template -d t2/t2.nii.gz -w ./warp_template2anat.nii.gz -a 0 -qc ./transformed/qc_singleSubj"
   ]
  },
  {
   "cell_type": "code",
   "execution_count": null,
   "id": "79b29473-2c0c-4473-bbd2-3228fd73bfe6",
   "metadata": {},
   "outputs": [],
   "source": [
    "url = \"file://\" + pwd + \"/transformed/qc_singleSubj/index.html\"\n",
    "webbrowser.open(url)"
   ]
  },
  {
   "cell_type": "code",
   "execution_count": null,
   "id": "ac8b2762-485d-4a58-af55-7575f9ff764b",
   "metadata": {
    "scrolled": true,
    "tags": []
   },
   "outputs": [],
   "source": [
    "!fsleyes t2/t2.nii.gz -cm greyscale -a 100.0 label/template/PAM50_t2.nii.gz -cm greyscale -dr 0 4000 -a 100.0 label/template/PAM50_gm.nii.gz -cm red-yellow -dr 0.4 1 -a 50.0 label/template/PAM50_wm.nii.gz -cm blue-lightblue -dr 0.4 1 -a 50.0"
   ]
  },
  {
   "cell_type": "markdown",
   "id": "cab2becd-1a8d-48b1-9243-cba6d87a71d2",
   "metadata": {},
   "source": [
    "## Congratulations for completing this tutorial 🍾💐"
   ]
  },
  {
   "cell_type": "code",
   "execution_count": null,
   "id": "ad0167a2-dfc6-4b4b-98f3-00eb8cab5e6c",
   "metadata": {},
   "outputs": [],
   "source": []
  }
 ],
 "metadata": {
  "kernelspec": {
   "display_name": "Python 3 (ipykernel)",
   "language": "python",
   "name": "python3"
  },
  "language_info": {
   "codemirror_mode": {
    "name": "ipython",
    "version": 3
   },
   "file_extension": ".py",
   "mimetype": "text/x-python",
   "name": "python",
   "nbconvert_exporter": "python",
   "pygments_lexer": "ipython3",
   "version": "3.9.7"
  },
  "widgets": {
   "application/vnd.jupyter.widget-state+json": {
    "state": {},
    "version_major": 2,
    "version_minor": 0
   }
  }
 },
 "nbformat": 4,
 "nbformat_minor": 5
}
